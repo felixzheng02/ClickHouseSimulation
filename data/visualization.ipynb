{
 "cells": [
  {
   "cell_type": "code",
   "execution_count": 121,
   "id": "b5db71fe",
   "metadata": {},
   "outputs": [],
   "source": [
    "import glob\n",
    "from pathlib import Path\n",
    "import itertools\n",
    "\n",
    "import numpy as np\n",
    "import pandas as pd\n",
    "\n",
    "from bokeh.layouts import layout, row\n",
    "from bokeh.plotting import figure, show, output_file\n",
    "from bokeh.models import CheckboxGroup, CustomJS, ColumnDataSource, FactorRange\n",
    "from bokeh.palettes import Dark2_5 as palette"
   ]
  },
  {
   "cell_type": "code",
   "execution_count": 122,
   "id": "44ca59b5",
   "metadata": {},
   "outputs": [],
   "source": [
    "path = r'' # use your path\n",
    "files = Path(path).glob('*.csv')\n",
    "dfs: dict = {}\n",
    "for f in files:\n",
    "    data = pd.read_csv(f)\n",
    "    # .stem is method for pathlib objects to get the filename w/o the extension\n",
    "    data['file'] = f.stem\n",
    "    dfs[f.stem] = data"
   ]
  },
  {
   "cell_type": "code",
   "execution_count": 127,
   "id": "c155f94d",
   "metadata": {},
   "outputs": [
    {
     "name": "stdout",
     "output_type": "stream",
     "text": [
      "0      0.1\n",
      "1      0.2\n",
      "2      0.3\n",
      "3      0.4\n",
      "4      0.5\n",
      "      ... \n",
      "95     9.6\n",
      "96     9.7\n",
      "97     9.8\n",
      "98     9.9\n",
      "99    10.0\n",
      "Name: phase_size, Length: 100, dtype: float64\n"
     ]
    }
   ],
   "source": [
    "print(dfs['exp_exp'].iloc[:, 0])"
   ]
  },
  {
   "cell_type": "code",
   "execution_count": 124,
   "id": "b661cc2e",
   "metadata": {},
   "outputs": [],
   "source": [
    "output_file(filename=\"visualization.html\", title=\"Visualization\")\n",
    "\n",
    "width_1 = 600\n",
    "height_1 = 400\n",
    "p1 = figure(width=width_1, height=height_1)\n",
    "\n",
    "colors = itertools.cycle(palette)\n",
    "\n",
    "p1.scatter(dfs['exp_exp'].iloc[:, 0], dfs['exp_exp'].iloc[:, 1], color=next(colors), legend_label='exp_exp')\n",
    "\n",
    "layout = row(p1)\n",
    "\n",
    "show(layout)"
   ]
  }
 ],
 "metadata": {
  "kernelspec": {
   "display_name": "base",
   "language": "python",
   "name": "python3"
  },
  "language_info": {
   "codemirror_mode": {
    "name": "ipython",
    "version": 3
   },
   "file_extension": ".py",
   "mimetype": "text/x-python",
   "name": "python",
   "nbconvert_exporter": "python",
   "pygments_lexer": "ipython3",
   "version": "3.9.12"
  },
  "vscode": {
   "interpreter": {
    "hash": "ca350b3caf5afa030c2adb4a8988c3a48d039c245b1a5d96d07158c869f842ed"
   }
  }
 },
 "nbformat": 4,
 "nbformat_minor": 5
}
